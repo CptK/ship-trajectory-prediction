{
 "cells": [
  {
   "cell_type": "code",
   "execution_count": 1,
   "metadata": {},
   "outputs": [],
   "source": [
    "import os\n",
    "\n",
    "os.environ['PYTORCH_ENABLE_MPS_FALLBACK'] = '1'\n",
    "\n",
    "from pathlib import Path\n",
    "\n",
    "import pandas as pd\n",
    "from torch.utils.data import DataLoader\n",
    "\n",
    "from prediction.data import MaskedAISDataset\n",
    "from prediction.model import TrajectoryTrainer, TrajectoryTransformer\n",
    "\n",
    "LOG_DIR = Path().resolve().parent.parent / \"logs\""
   ]
  },
  {
   "cell_type": "markdown",
   "metadata": {},
   "source": [
    "## Create Dataset if it does not exist yet, skip otherwise"
   ]
  },
  {
   "cell_type": "code",
   "execution_count": null,
   "metadata": {},
   "outputs": [
    {
     "name": "stdout",
     "output_type": "stream",
     "text": [
      "Loading and building trajectories for 1 days using 11 processes\n",
      "Loading and building trajectories for 2024-01-01 00:00:00\n"
     ]
    },
    {
     "name": "stderr",
     "output_type": "stream",
     "text": [
      "100%|██████████| 1/1 [00:06<00:00,  6.37s/it]\n",
      "100%|██████████| 14868/14868 [02:12<00:00, 111.80it/s]\n"
     ]
    }
   ],
   "source": [
    "from datetime import datetime\n",
    "\n",
    "from prediction.data import vessel_groups\n",
    "from prediction.preprocessing import load_and_build, remove_outliers_parallel\n",
    "\n",
    "groups = vessel_groups()\n",
    "df = load_and_build(datetime(2024, 1, 1), datetime(2024, 1, 1), 100, groups, verbose=True)\n",
    "df = remove_outliers_parallel(\n",
    "    df=df,\n",
    "    threshold_partition_sog=5.0,\n",
    "    threshold_association_sog=15.0,\n",
    "    threshold_completeness=100.0,\n",
    "    threshold_partition_distance=100.0,\n",
    "    threshold_association_distance=100.0,\n",
    "    additional_filter_columns=[\"orientations\"]\n",
    ")\n",
    "df.to_pickle(\"ais_data.pkl\")"
   ]
  },
  {
   "cell_type": "markdown",
   "metadata": {},
   "source": [
    "## Load the dataset if it exists"
   ]
  },
  {
   "cell_type": "code",
   "execution_count": 6,
   "metadata": {},
   "outputs": [],
   "source": [
    "df = pd.read_pickle('ais_data.pkl')"
   ]
  },
  {
   "cell_type": "code",
   "execution_count": 7,
   "metadata": {},
   "outputs": [
    {
     "name": "stderr",
     "output_type": "stream",
     "text": [
      "100%|██████████| 12087/12087 [00:05<00:00, 2060.26it/s]\n"
     ]
    }
   ],
   "source": [
    "MAX_SEQ_LEN = 100\n",
    "dataset = MaskedAISDataset(df, MAX_SEQ_LEN, n_workers=1, normalize=True)\n",
    "loader = DataLoader(dataset, batch_size=32, shuffle=True)\n",
    "device = \"mps\"\n",
    "\n",
    "transformer = TrajectoryTransformer(\n",
    "    d_model=128,\n",
    "    nhead=4,\n",
    "    num_encoder_layers=4,\n",
    "    num_decoder_layers=4,\n",
    "    dim_feedforward=512,\n",
    "    dropout=0.1,\n",
    "    max_seq_len=MAX_SEQ_LEN\n",
    ")"
   ]
  },
  {
   "cell_type": "code",
   "execution_count": 8,
   "metadata": {},
   "outputs": [],
   "source": [
    "trainer = TrajectoryTrainer(transformer, loader, loader, LOG_DIR, device=device)"
   ]
  },
  {
   "cell_type": "code",
   "execution_count": 9,
   "metadata": {},
   "outputs": [
    {
     "name": "stderr",
     "output_type": "stream",
     "text": [
      "Epoch 0: 100%|██████████| 378/378 [00:30<00:00, 12.28it/s, loss=0.0622]\n",
      "/Users/marcus/Documents/Workspace/python-envs/ais-env/lib/python3.11/site-packages/torch/nn/modules/transformer.py:454: UserWarning: The operator 'aten::_nested_tensor_from_mask_left_aligned' is not currently supported on the MPS backend and will fall back to run on the CPU. This may have performance implications. (Triggered internally at /Users/runner/work/pytorch/pytorch/pytorch/aten/src/ATen/mps/MPSFallback.mm:13.)\n",
      "  ) and not torch._nested_tensor_from_mask_left_aligned(\n"
     ]
    },
    {
     "name": "stdout",
     "output_type": "stream",
     "text": [
      "\n",
      "Epoch 1/10 - Time: 39.50s\n",
      "train_loss: 0.0873\n",
      "val_loss: 0.0565\n",
      "Learning rate: 0.000098\n",
      "--------------------------------------------------\n"
     ]
    },
    {
     "name": "stderr",
     "output_type": "stream",
     "text": [
      "Epoch 1: 100%|██████████| 378/378 [00:28<00:00, 13.06it/s, loss=0.0459]\n"
     ]
    },
    {
     "name": "stdout",
     "output_type": "stream",
     "text": [
      "\n",
      "Epoch 2/10 - Time: 36.65s\n",
      "train_loss: 0.0588\n",
      "val_loss: 0.0529\n",
      "Learning rate: 0.000091\n",
      "--------------------------------------------------\n"
     ]
    },
    {
     "name": "stderr",
     "output_type": "stream",
     "text": [
      "Epoch 2: 100%|██████████| 378/378 [00:28<00:00, 13.23it/s, loss=0.0629]\n"
     ]
    },
    {
     "name": "stdout",
     "output_type": "stream",
     "text": [
      "\n",
      "Epoch 3/10 - Time: 36.48s\n",
      "train_loss: 0.0562\n",
      "val_loss: 0.0531\n",
      "Learning rate: 0.000080\n",
      "--------------------------------------------------\n"
     ]
    },
    {
     "name": "stderr",
     "output_type": "stream",
     "text": [
      "Epoch 3: 100%|██████████| 378/378 [00:27<00:00, 13.78it/s, loss=0.0494]\n"
     ]
    },
    {
     "name": "stdout",
     "output_type": "stream",
     "text": [
      "\n",
      "Epoch 4/10 - Time: 34.88s\n",
      "train_loss: 0.0544\n",
      "val_loss: 0.0518\n",
      "Learning rate: 0.000066\n",
      "--------------------------------------------------\n"
     ]
    },
    {
     "name": "stderr",
     "output_type": "stream",
     "text": [
      "Epoch 4: 100%|██████████| 378/378 [00:27<00:00, 13.77it/s, loss=0.0558]\n"
     ]
    },
    {
     "name": "stdout",
     "output_type": "stream",
     "text": [
      "\n",
      "Epoch 5/10 - Time: 34.87s\n",
      "train_loss: 0.0531\n",
      "val_loss: 0.0505\n",
      "Learning rate: 0.000051\n",
      "--------------------------------------------------\n"
     ]
    },
    {
     "name": "stderr",
     "output_type": "stream",
     "text": [
      "Epoch 5: 100%|██████████| 378/378 [00:27<00:00, 13.73it/s, loss=0.0525]\n"
     ]
    },
    {
     "name": "stdout",
     "output_type": "stream",
     "text": [
      "\n",
      "Epoch 6/10 - Time: 34.95s\n",
      "train_loss: 0.0528\n",
      "val_loss: 0.0505\n",
      "Learning rate: 0.000035\n",
      "--------------------------------------------------\n"
     ]
    },
    {
     "name": "stderr",
     "output_type": "stream",
     "text": [
      "Epoch 6: 100%|██████████| 378/378 [00:27<00:00, 13.69it/s, loss=0.0406]\n"
     ]
    },
    {
     "name": "stdout",
     "output_type": "stream",
     "text": [
      "\n",
      "Epoch 7/10 - Time: 35.06s\n",
      "train_loss: 0.0522\n",
      "val_loss: 0.0506\n",
      "Learning rate: 0.000021\n",
      "--------------------------------------------------\n"
     ]
    },
    {
     "name": "stderr",
     "output_type": "stream",
     "text": [
      "Epoch 7: 100%|██████████| 378/378 [00:27<00:00, 13.60it/s, loss=0.0356]\n"
     ]
    },
    {
     "name": "stdout",
     "output_type": "stream",
     "text": [
      "\n",
      "Epoch 8/10 - Time: 35.42s\n",
      "train_loss: 0.0520\n",
      "val_loss: 0.0499\n",
      "Learning rate: 0.000010\n",
      "--------------------------------------------------\n"
     ]
    },
    {
     "name": "stderr",
     "output_type": "stream",
     "text": [
      "Epoch 8: 100%|██████████| 378/378 [00:27<00:00, 13.52it/s, loss=0.0556]\n"
     ]
    },
    {
     "name": "stdout",
     "output_type": "stream",
     "text": [
      "\n",
      "Epoch 9/10 - Time: 35.39s\n",
      "train_loss: 0.0509\n",
      "val_loss: 0.0496\n",
      "Learning rate: 0.000003\n",
      "--------------------------------------------------\n"
     ]
    },
    {
     "name": "stderr",
     "output_type": "stream",
     "text": [
      "Epoch 9: 100%|██████████| 378/378 [00:27<00:00, 13.60it/s, loss=0.0441]\n"
     ]
    },
    {
     "name": "stdout",
     "output_type": "stream",
     "text": [
      "\n",
      "Epoch 10/10 - Time: 35.44s\n",
      "train_loss: 0.0511\n",
      "val_loss: 0.0491\n",
      "Learning rate: 0.000001\n",
      "--------------------------------------------------\n"
     ]
    },
    {
     "data": {
      "text/plain": [
       "{'train_loss': 0.0510633668798224, 'val_loss': 0.04913883752844952}"
      ]
     },
     "execution_count": 9,
     "metadata": {},
     "output_type": "execute_result"
    }
   ],
   "source": [
    "trainer.train(max_epochs=10)"
   ]
  },
  {
   "cell_type": "code",
   "execution_count": null,
   "metadata": {},
   "outputs": [],
   "source": []
  },
  {
   "cell_type": "code",
   "execution_count": null,
   "metadata": {},
   "outputs": [],
   "source": []
  }
 ],
 "metadata": {
  "kernelspec": {
   "display_name": "ais-env",
   "language": "python",
   "name": "python3"
  },
  "language_info": {
   "codemirror_mode": {
    "name": "ipython",
    "version": 3
   },
   "file_extension": ".py",
   "mimetype": "text/x-python",
   "name": "python",
   "nbconvert_exporter": "python",
   "pygments_lexer": "ipython3",
   "version": "3.11.8"
  }
 },
 "nbformat": 4,
 "nbformat_minor": 2
}
