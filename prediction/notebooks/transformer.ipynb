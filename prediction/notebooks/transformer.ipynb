{
 "cells": [
  {
   "cell_type": "code",
   "execution_count": 1,
   "metadata": {},
   "outputs": [],
   "source": [
    "import os\n",
    "\n",
    "os.environ['PYTORCH_ENABLE_MPS_FALLBACK'] = '1'\n",
    "\n",
    "from pathlib import Path\n",
    "\n",
    "import pandas as pd\n",
    "from torch.utils.data import DataLoader\n",
    "\n",
    "from prediction.data import MaskedAISDataset\n",
    "from prediction.model import TrajectoryTrainer, TrajectoryTransformer\n",
    "\n",
    "LOG_DIR = Path().resolve().parent.parent / \"logs\""
   ]
  },
  {
   "cell_type": "code",
   "execution_count": 2,
   "metadata": {},
   "outputs": [],
   "source": [
    "df = pd.read_pickle('ais_data.pkl')"
   ]
  },
  {
   "cell_type": "code",
   "execution_count": 3,
   "metadata": {},
   "outputs": [
    {
     "name": "stderr",
     "output_type": "stream",
     "text": [
      "100%|██████████| 8585/8585 [00:04<00:00, 2028.60it/s]\n"
     ]
    }
   ],
   "source": [
    "MAX_SEQ_LEN = 100\n",
    "dataset = MaskedAISDataset(df, MAX_SEQ_LEN, n_workers=1, normalize=True)\n",
    "loader = DataLoader(dataset, batch_size=32, shuffle=True)\n",
    "device = \"mps\"\n",
    "\n",
    "transformer = TrajectoryTransformer(\n",
    "    d_model=128,\n",
    "    nhead=4,\n",
    "    num_encoder_layers=4,\n",
    "    num_decoder_layers=4,\n",
    "    dim_feedforward=512,\n",
    "    dropout=0.1,\n",
    "    max_seq_len=MAX_SEQ_LEN\n",
    ")"
   ]
  },
  {
   "cell_type": "code",
   "execution_count": 4,
   "metadata": {},
   "outputs": [],
   "source": [
    "trainer = TrajectoryTrainer(transformer, loader, loader, LOG_DIR, device=device)"
   ]
  },
  {
   "cell_type": "code",
   "execution_count": 5,
   "metadata": {},
   "outputs": [
    {
     "name": "stderr",
     "output_type": "stream",
     "text": [
      "Epoch 0: 100%|██████████| 269/269 [00:22<00:00, 11.78it/s, loss=0.0454]\n",
      "/Users/marcus/Documents/Workspace/python-envs/ais-env/lib/python3.11/site-packages/torch/nn/modules/transformer.py:454: UserWarning: The operator 'aten::_nested_tensor_from_mask_left_aligned' is not currently supported on the MPS backend and will fall back to run on the CPU. This may have performance implications. (Triggered internally at /Users/runner/work/pytorch/pytorch/pytorch/aten/src/ATen/mps/MPSFallback.mm:13.)\n",
      "  ) and not torch._nested_tensor_from_mask_left_aligned(\n"
     ]
    },
    {
     "name": "stdout",
     "output_type": "stream",
     "text": [
      "\n",
      "Epoch 1/10 - Time: 29.90s\n",
      "train_loss: 0.0788\n",
      "val_loss: 0.0450\n",
      "Learning rate: 0.000098\n",
      "--------------------------------------------------\n"
     ]
    },
    {
     "name": "stderr",
     "output_type": "stream",
     "text": [
      "Epoch 1: 100%|██████████| 269/269 [00:20<00:00, 13.05it/s, loss=0.0411]\n"
     ]
    },
    {
     "name": "stdout",
     "output_type": "stream",
     "text": [
      "\n",
      "Epoch 2/10 - Time: 26.89s\n",
      "train_loss: 0.0497\n",
      "val_loss: 0.0420\n",
      "Learning rate: 0.000091\n",
      "--------------------------------------------------\n"
     ]
    },
    {
     "name": "stderr",
     "output_type": "stream",
     "text": [
      "Epoch 2: 100%|██████████| 269/269 [00:20<00:00, 13.02it/s, loss=0.0862]\n"
     ]
    },
    {
     "name": "stdout",
     "output_type": "stream",
     "text": [
      "\n",
      "Epoch 3/10 - Time: 26.30s\n",
      "train_loss: 0.0451\n",
      "val_loss: 0.0427\n",
      "Learning rate: 0.000080\n",
      "--------------------------------------------------\n"
     ]
    },
    {
     "name": "stderr",
     "output_type": "stream",
     "text": [
      "Epoch 3: 100%|██████████| 269/269 [00:20<00:00, 13.34it/s, loss=0.0632]\n"
     ]
    },
    {
     "name": "stdout",
     "output_type": "stream",
     "text": [
      "\n",
      "Epoch 4/10 - Time: 25.54s\n",
      "train_loss: 0.0443\n",
      "val_loss: 0.0414\n",
      "Learning rate: 0.000066\n",
      "--------------------------------------------------\n"
     ]
    },
    {
     "name": "stderr",
     "output_type": "stream",
     "text": [
      "Epoch 4: 100%|██████████| 269/269 [00:20<00:00, 13.17it/s, loss=0.0659]\n"
     ]
    },
    {
     "name": "stdout",
     "output_type": "stream",
     "text": [
      "\n",
      "Epoch 5/10 - Time: 26.13s\n",
      "train_loss: 0.0429\n",
      "val_loss: 0.0407\n",
      "Learning rate: 0.000051\n",
      "--------------------------------------------------\n"
     ]
    },
    {
     "name": "stderr",
     "output_type": "stream",
     "text": [
      "Epoch 5: 100%|██████████| 269/269 [00:19<00:00, 13.77it/s, loss=0.0451]\n"
     ]
    },
    {
     "name": "stdout",
     "output_type": "stream",
     "text": [
      "\n",
      "Epoch 6/10 - Time: 24.80s\n",
      "train_loss: 0.0426\n",
      "val_loss: 0.0408\n",
      "Learning rate: 0.000035\n",
      "--------------------------------------------------\n"
     ]
    },
    {
     "name": "stderr",
     "output_type": "stream",
     "text": [
      "Epoch 6: 100%|██████████| 269/269 [00:19<00:00, 14.05it/s, loss=0.0555]\n"
     ]
    },
    {
     "name": "stdout",
     "output_type": "stream",
     "text": [
      "\n",
      "Epoch 7/10 - Time: 24.86s\n",
      "train_loss: 0.0418\n",
      "val_loss: 0.0397\n",
      "Learning rate: 0.000021\n",
      "--------------------------------------------------\n"
     ]
    },
    {
     "name": "stderr",
     "output_type": "stream",
     "text": [
      "Epoch 7: 100%|██████████| 269/269 [00:19<00:00, 13.72it/s, loss=0.0440]\n"
     ]
    },
    {
     "name": "stdout",
     "output_type": "stream",
     "text": [
      "\n",
      "Epoch 8/10 - Time: 24.78s\n",
      "train_loss: 0.0418\n",
      "val_loss: 0.0400\n",
      "Learning rate: 0.000010\n",
      "--------------------------------------------------\n"
     ]
    },
    {
     "name": "stderr",
     "output_type": "stream",
     "text": [
      "Epoch 8: 100%|██████████| 269/269 [00:19<00:00, 13.57it/s, loss=0.0480]\n"
     ]
    },
    {
     "name": "stdout",
     "output_type": "stream",
     "text": [
      "\n",
      "Epoch 9/10 - Time: 25.17s\n",
      "train_loss: 0.0412\n",
      "val_loss: 0.0398\n",
      "Learning rate: 0.000003\n",
      "--------------------------------------------------\n"
     ]
    },
    {
     "name": "stderr",
     "output_type": "stream",
     "text": [
      "Epoch 9: 100%|██████████| 269/269 [00:19<00:00, 13.55it/s, loss=0.0341]\n"
     ]
    },
    {
     "name": "stdout",
     "output_type": "stream",
     "text": [
      "\n",
      "Epoch 10/10 - Time: 24.98s\n",
      "train_loss: 0.0413\n",
      "val_loss: 0.0399\n",
      "Learning rate: 0.000001\n",
      "--------------------------------------------------\n"
     ]
    },
    {
     "data": {
      "text/plain": [
       "{'train_loss': 0.041837751740748996, 'val_loss': 0.039724161017506095}"
      ]
     },
     "execution_count": 5,
     "metadata": {},
     "output_type": "execute_result"
    }
   ],
   "source": [
    "trainer.train(max_epochs=10)"
   ]
  },
  {
   "cell_type": "code",
   "execution_count": null,
   "metadata": {},
   "outputs": [],
   "source": []
  },
  {
   "cell_type": "code",
   "execution_count": null,
   "metadata": {},
   "outputs": [],
   "source": []
  }
 ],
 "metadata": {
  "kernelspec": {
   "display_name": "ais-env",
   "language": "python",
   "name": "python3"
  },
  "language_info": {
   "codemirror_mode": {
    "name": "ipython",
    "version": 3
   },
   "file_extension": ".py",
   "mimetype": "text/x-python",
   "name": "python",
   "nbconvert_exporter": "python",
   "pygments_lexer": "ipython3",
   "version": "3.11.8"
  }
 },
 "nbformat": 4,
 "nbformat_minor": 2
}
