{
 "cells": [
  {
   "cell_type": "code",
   "execution_count": 1,
   "metadata": {},
   "outputs": [],
   "source": [
    "import os\n",
    "\n",
    "os.environ['PYTORCH_ENABLE_MPS_FALLBACK'] = '1'\n",
    "\n",
    "from pathlib import Path\n",
    "\n",
    "import pandas as pd\n",
    "from torch.utils.data import DataLoader\n",
    "\n",
    "from prediction.data import MaskedAISDataset\n",
    "from prediction.model import TrajectoryTrainer, TrajectoryTransformer\n",
    "\n",
    "LOG_DIR = Path().resolve().parent.parent / \"logs\""
   ]
  },
  {
   "cell_type": "markdown",
   "metadata": {},
   "source": [
    "## Create Dataset if it does not exist yet, skip otherwise"
   ]
  },
  {
   "cell_type": "code",
   "execution_count": null,
   "metadata": {},
   "outputs": [],
   "source": [
    "from datetime import datetime\n",
    "\n",
    "from prediction.data import vessel_groups\n",
    "from prediction.preprocessing import load_and_build, remove_outliers_parallel\n",
    "\n",
    "groups = vessel_groups()\n",
    "df = load_and_build(datetime(2024, 1, 1), datetime(2024, 1, 1), 100, groups, verbose=True)\n",
    "df = remove_outliers_parallel(\n",
    "    df=df,\n",
    "    threshold_partition_sog=5.0,\n",
    "    threshold_association_sog=15.0,\n",
    "    threshold_completeness=100.0,\n",
    "    threshold_partition_distance=100.0,\n",
    "    threshold_association_distance=100.0,\n",
    "    additional_filter_columns=[\"orientations\"]\n",
    ")\n",
    "df.to_pickle(\"ais_data.pkl\")"
   ]
  },
  {
   "cell_type": "markdown",
   "metadata": {},
   "source": [
    "## Load the dataset if it exists"
   ]
  },
  {
   "cell_type": "code",
   "execution_count": 2,
   "metadata": {},
   "outputs": [],
   "source": [
    "df = pd.read_pickle('ais_data.pkl')"
   ]
  },
  {
   "cell_type": "code",
   "execution_count": null,
   "metadata": {},
   "outputs": [],
   "source": [
    "MAX_SEQ_LEN = 100\n",
    "dataset = MaskedAISDataset(df, MAX_SEQ_LEN, n_workers=1, normalize=True)\n",
    "loader = DataLoader(dataset, batch_size=32, shuffle=True)\n",
    "device = \"mps\"\n",
    "\n",
    "transformer = TrajectoryTransformer(\n",
    "    d_model=128,\n",
    "    nhead=4,\n",
    "    num_encoder_layers=4,\n",
    "    num_decoder_layers=4,\n",
    "    dim_feedforward=512,\n",
    "    dropout=0.1,\n",
    "    max_seq_len=MAX_SEQ_LEN\n",
    ")"
   ]
  },
  {
   "cell_type": "code",
   "execution_count": null,
   "metadata": {},
   "outputs": [],
   "source": [
    "trainer = TrajectoryTrainer(transformer, loader, loader, LOG_DIR, device=device)"
   ]
  },
  {
   "cell_type": "code",
   "execution_count": null,
   "metadata": {},
   "outputs": [],
   "source": [
    "trainer.train(max_epochs=10)"
   ]
  },
  {
   "cell_type": "code",
   "execution_count": null,
   "metadata": {},
   "outputs": [],
   "source": []
  },
  {
   "cell_type": "code",
   "execution_count": null,
   "metadata": {},
   "outputs": [],
   "source": []
  }
 ],
 "metadata": {
  "kernelspec": {
   "display_name": "ais-env",
   "language": "python",
   "name": "python3"
  },
  "language_info": {
   "codemirror_mode": {
    "name": "ipython",
    "version": 3
   },
   "file_extension": ".py",
   "mimetype": "text/x-python",
   "name": "python",
   "nbconvert_exporter": "python",
   "pygments_lexer": "ipython3",
   "version": "3.11.8"
  }
 },
 "nbformat": 4,
 "nbformat_minor": 2
}
