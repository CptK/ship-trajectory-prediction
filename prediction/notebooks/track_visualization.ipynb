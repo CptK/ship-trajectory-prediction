{
 "cells": [
  {
   "cell_type": "code",
   "execution_count": 1,
   "metadata": {},
   "outputs": [],
   "source": [
    "from datetime import datetime\n",
    "\n",
    "import matplotlib.pyplot as plt\n",
    "\n",
    "from prediction.data import download_data, load_data, vessel_groups\n",
    "from prediction.visualization import plot_north_america, plot_trajectories\n",
    "from prediction.preprocessing import build_trajectories\n",
    "from prediction.preprocessing import remove_outliers_parallel\n"
   ]
  },
  {
   "cell_type": "code",
   "execution_count": 2,
   "metadata": {},
   "outputs": [
    {
     "name": "stdout",
     "output_type": "stream",
     "text": [
      "Data for 2024-01-01 already exists in /Users/marcus/Documents/Workspace/ship-trajectory-prediction/data/raw\n"
     ]
    },
    {
     "name": "stderr",
     "output_type": "stream",
     "text": [
      "100%|██████████| 1/1 [00:05<00:00,  5.48s/it]\n"
     ]
    }
   ],
   "source": [
    "download_data(datetime(2024, 1, 1))\n",
    "groups = vessel_groups()\n",
    "df = load_data(datetime(2024, 1, 1))\n",
    "df[\"VesselType\"] = df[\"VesselType\"].apply(lambda x: x if x in groups.keys() else 21)"
   ]
  },
  {
   "cell_type": "code",
   "execution_count": null,
   "metadata": {},
   "outputs": [
    {
     "name": "stderr",
     "output_type": "stream",
     "text": [
      " 15%|█▍        | 2215/14868 [00:16<01:17, 163.48it/s]"
     ]
    }
   ],
   "source": [
    "trajectories = build_trajectories(df, min_points=10, vessel_groups=groups)\n",
    "trajectories.head()"
   ]
  },
  {
   "cell_type": "code",
   "execution_count": null,
   "metadata": {},
   "outputs": [],
   "source": [
    "fig, ax = plt.subplots(figsize=(20,15))\n",
    "ax.set_axis_off()\n",
    "plot_north_america(ax)\n",
    "plot_trajectories(trajectories, ax)\n",
    "\n",
    "# cut axes to north america\n",
    "ax.set_xlim(-140, -30)\n",
    "\n",
    "plt.show()"
   ]
  },
  {
   "cell_type": "code",
   "execution_count": 5,
   "metadata": {},
   "outputs": [],
   "source": [
    "trajectories_new = trajectories.copy()"
   ]
  },
  {
   "cell_type": "code",
   "execution_count": null,
   "metadata": {},
   "outputs": [],
   "source": [
    "\n",
    "trajectories_new = remove_outliers_parallel(trajectories_new, threshold_partition=5.0, threshold_association=15.0, threshold_completeness=100.0)"
   ]
  },
  {
   "cell_type": "code",
   "execution_count": null,
   "metadata": {},
   "outputs": [],
   "source": [
    "trajectories_new.head()"
   ]
  },
  {
   "cell_type": "code",
   "execution_count": null,
   "metadata": {},
   "outputs": [],
   "source": [
    "fig, ax = plt.subplots(figsize=(20,15))\n",
    "ax.set_axis_off()\n",
    "plot_north_america(ax)\n",
    "plot_trajectories(trajectories_new, ax)\n",
    "\n",
    "# cut axes to north america\n",
    "ax.set_xlim(-140, -30)\n",
    "\n",
    "plt.show()"
   ]
  }
 ],
 "metadata": {
  "kernelspec": {
   "display_name": "ais-env",
   "language": "python",
   "name": "python3"
  },
  "language_info": {
   "codemirror_mode": {
    "name": "ipython",
    "version": 3
   },
   "file_extension": ".py",
   "mimetype": "text/x-python",
   "name": "python",
   "nbconvert_exporter": "python",
   "pygments_lexer": "ipython3",
   "version": "3.11.8"
  }
 },
 "nbformat": 4,
 "nbformat_minor": 2
}
